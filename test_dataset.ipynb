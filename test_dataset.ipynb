{
 "cells": [
  {
   "cell_type": "code",
   "execution_count": 5,
   "metadata": {},
   "outputs": [],
   "source": [
    "import torch\n",
    "from datasets import *\n",
    "\n",
    "X = torch.tensor([[1,0,1], [1,1,1]]).float()\n",
    "y = torch.tensor([[1], [2]]).float()\n",
    "\n",
    "loader = FastTensorDataLoader(X, y, batch_size=1, shuffle=True)"
   ]
  },
  {
   "cell_type": "code",
   "execution_count": 6,
   "metadata": {},
   "outputs": [
    {
     "name": "stdout",
     "output_type": "stream",
     "text": [
      "tensor([[1., 0., 1.]]) tensor([[1.]])\n",
      "tensor([[1., 1., 1.]]) tensor([[2.]])\n",
      "tensor([[1., 0., 1.]]) tensor([[1.]])\n",
      "tensor([[1., 1., 1.]]) tensor([[2.]])\n",
      "tensor([[1., 1., 1.]]) tensor([[2.]])\n",
      "tensor([[1., 0., 1.]]) tensor([[1.]])\n",
      "tensor([[1., 1., 1.]]) tensor([[2.]])\n",
      "tensor([[1., 0., 1.]]) tensor([[1.]])\n",
      "tensor([[1., 0., 1.]]) tensor([[1.]])\n",
      "tensor([[1., 1., 1.]]) tensor([[2.]])\n",
      "tensor([[1., 0., 1.]]) tensor([[1.]])\n",
      "tensor([[1., 1., 1.]]) tensor([[2.]])\n",
      "tensor([[1., 0., 1.]]) tensor([[1.]])\n",
      "tensor([[1., 1., 1.]]) tensor([[2.]])\n",
      "tensor([[1., 1., 1.]]) tensor([[2.]])\n",
      "tensor([[1., 0., 1.]]) tensor([[1.]])\n",
      "tensor([[1., 1., 1.]]) tensor([[2.]])\n",
      "tensor([[1., 0., 1.]]) tensor([[1.]])\n",
      "tensor([[1., 1., 1.]]) tensor([[2.]])\n",
      "tensor([[1., 0., 1.]]) tensor([[1.]])\n"
     ]
    }
   ],
   "source": [
    "for i in range(10):\n",
    "    for x, Y in loader:\n",
    "        print(x, Y)"
   ]
  }
 ],
 "metadata": {
  "kernelspec": {
   "display_name": "Python 3.10.4 ('venv')",
   "language": "python",
   "name": "python3"
  },
  "language_info": {
   "codemirror_mode": {
    "name": "ipython",
    "version": 3
   },
   "file_extension": ".py",
   "mimetype": "text/x-python",
   "name": "python",
   "nbconvert_exporter": "python",
   "pygments_lexer": "ipython3",
   "version": "3.8.13"
  },
  "orig_nbformat": 4,
  "vscode": {
   "interpreter": {
    "hash": "7ec05a26f12930ec341a8988c0de5d31e9cfb37c98ea12af5353828508f2c236"
   }
  }
 },
 "nbformat": 4,
 "nbformat_minor": 2
}
