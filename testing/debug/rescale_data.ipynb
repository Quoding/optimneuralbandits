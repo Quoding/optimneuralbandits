{
 "cells": [
  {
   "cell_type": "code",
   "execution_count": 19,
   "metadata": {},
   "outputs": [],
   "source": [
    "import numpy as np\n",
    "import pandas as pd\n",
    "import sklearn\n",
    "import json\n"
   ]
  },
  {
   "cell_type": "code",
   "execution_count": 20,
   "metadata": {},
   "outputs": [],
   "source": [
    "name = \"50_rx_100000_combis_4_patterns_3\"\n",
    "dataset = f\"../datasets/combinations/{name}.csv\"\n",
    "pattern_file = f\"../datasets/patterns/{name}.json\""
   ]
  },
  {
   "cell_type": "code",
   "execution_count": 4,
   "metadata": {},
   "outputs": [],
   "source": [
    "\n",
    "\n",
    "data = pd.read_csv(dataset)\n",
    "\n",
    "data = data.replace(0, -1)\n",
    "\n",
    "data.to_csv(f\"../datasets/combinations/{name}_modif.csv\")\n"
   ]
  },
  {
   "cell_type": "code",
   "execution_count": 23,
   "metadata": {},
   "outputs": [],
   "source": [
    "\n",
    "with open(pattern_file) as f:\n",
    "    pat = json.load(f)\n",
    "for pattern in pat.values():\n",
    "    l = pattern[\"pattern\"]\n",
    "    l = [1.0 if x == 1 else -1.0 for x in l]\n",
    "    pattern[\"pattern\"] = l\n",
    "with open(f\"../datasets/patterns/{name}_modif.json\", \"w+\") as f:\n",
    "    json.dump(pat, f)\n"
   ]
  }
 ],
 "metadata": {
  "kernelspec": {
   "display_name": "Python 3.10.4 ('venv')",
   "language": "python",
   "name": "python3"
  },
  "language_info": {
   "codemirror_mode": {
    "name": "ipython",
    "version": 3
   },
   "file_extension": ".py",
   "mimetype": "text/x-python",
   "name": "python",
   "nbconvert_exporter": "python",
   "pygments_lexer": "ipython3",
   "version": "3.8.13"
  },
  "orig_nbformat": 4,
  "vscode": {
   "interpreter": {
    "hash": "7ec05a26f12930ec341a8988c0de5d31e9cfb37c98ea12af5353828508f2c236"
   }
  }
 },
 "nbformat": 4,
 "nbformat_minor": 2
}
